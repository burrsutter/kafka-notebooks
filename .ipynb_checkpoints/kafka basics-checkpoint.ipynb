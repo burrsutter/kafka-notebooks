{
 "cells": [
  {
   "cell_type": "code",
   "execution_count": 1,
   "id": "078b050a",
   "metadata": {},
   "outputs": [
    {
     "name": "stdout",
     "output_type": "stream",
     "text": [
      "/usr/local/opt/python@3.9/bin/python3.9\n",
      "3.9.2 (default, Feb 24 2021, 13:26:09) \n",
      "[Clang 12.0.0 (clang-1200.0.32.29)]\n",
      "sys.version_info(major=3, minor=9, micro=2, releaselevel='final', serial=0)\n"
     ]
    }
   ],
   "source": [
    "import sys\n",
    "print(sys.executable)\n",
    "print(sys.version)\n",
    "print(sys.version_info)"
   ]
  },
  {
   "cell_type": "markdown",
   "id": "2a3cd235",
   "metadata": {},
   "source": [
    "### Managed Kafka Setup\n",
    "\n",
    "[rhoas binary](https://github.com/redhat-developer/app-services-cli/releases)\n",
    "\n",
    "`rhoas login`\n",
    "\n",
    "`rhoas kafka list`\n",
    "\n",
    "`rhoas kafka topic list`\n",
    "\n",
    "`rhoas kafka create shipwars`\n",
    "\n",
    "`rhoas kafka topic create shipwars-matches --partitions 3`\n",
    "\n",
    "`rhoas kafka topic create shipwars-players --partitions 3`\n",
    "\n",
    "`rhoas kafka topic create shipwars-attacks --partitions 3`\n",
    "\n",
    "`rhoas kafka topic create shipwars-bonuses --partitions 3`\n",
    "\n",
    "`rhoas kafka topic create shipwars-results --partitions 3`\n",
    "\n",
    "`rhoas kafka topic create test --partitions 3`\n",
    "\n",
    "`rhoas kafka topic list`\n",
    "\n",
    "We only need the \"test\" topic for this example code, everything else was to be compatible with the shipwars demos\n"
   ]
  },
  {
   "cell_type": "code",
   "execution_count": 12,
   "id": "e7bb2b4a",
   "metadata": {},
   "outputs": [
    {
     "name": "stdout",
     "output_type": "stream",
     "text": [
      "\u001b[33mDEPRECATION: Configuring installation scheme with distutils config files is deprecated and will no longer work in the near future. If you are using a Homebrew or Linuxbrew Python, please see discussion at https://github.com/Homebrew/homebrew-core/issues/76621\u001b[0m\n",
      "Requirement already satisfied: kafka-python in /usr/local/lib/python3.9/site-packages (2.0.2)\n",
      "\u001b[33mDEPRECATION: Configuring installation scheme with distutils config files is deprecated and will no longer work in the near future. If you are using a Homebrew or Linuxbrew Python, please see discussion at https://github.com/Homebrew/homebrew-core/issues/76621\u001b[0m\n",
      "Collecting python-dotenv\n",
      "  Downloading python_dotenv-0.19.0-py2.py3-none-any.whl (17 kB)\n",
      "Installing collected packages: python-dotenv\n",
      "\u001b[33mDEPRECATION: Configuring installation scheme with distutils config files is deprecated and will no longer work in the near future. If you are using a Homebrew or Linuxbrew Python, please see discussion at https://github.com/Homebrew/homebrew-core/issues/76621\u001b[0m\n",
      "Successfully installed python-dotenv-0.19.0\n"
     ]
    }
   ],
   "source": [
    "!pip install kafka-python\n",
    "!pip install python-dotenv"
   ]
  },
  {
   "cell_type": "code",
   "execution_count": 13,
   "id": "597663f1",
   "metadata": {},
   "outputs": [
    {
     "name": "stdout",
     "output_type": "stream",
     "text": [
      "Package             Version\r\n",
      "------------------- -------\r\n",
      "appnope             0.1.2\r\n",
      "argon2-cffi         20.1.0\r\n",
      "attrs               21.2.0\r\n",
      "backcall            0.2.0\r\n",
      "bleach              4.0.0\r\n",
      "cffi                1.14.6\r\n",
      "debugpy             1.4.1\r\n",
      "decorator           5.0.9\r\n",
      "defusedxml          0.7.1\r\n",
      "entrypoints         0.3\r\n",
      "ipykernel           6.2.0\r\n",
      "ipython             7.26.0\r\n",
      "ipython-genutils    0.2.0\r\n",
      "ipywidgets          7.6.3\r\n",
      "jedi                0.18.0\r\n",
      "Jinja2              3.0.1\r\n",
      "jsonschema          3.2.0\r\n",
      "jupyter             1.0.0\r\n",
      "jupyter-client      6.1.12\r\n",
      "jupyter-console     6.4.0\r\n",
      "jupyter-core        4.7.1\r\n",
      "jupyterlab-pygments 0.1.2\r\n",
      "jupyterlab-widgets  1.0.0\r\n",
      "kafka-python        2.0.2\r\n",
      "MarkupSafe          2.0.1\r\n",
      "matplotlib-inline   0.1.2\r\n",
      "mistune             0.8.4\r\n",
      "nbclient            0.5.4\r\n",
      "nbconvert           6.1.0\r\n",
      "nbformat            5.1.3\r\n",
      "nest-asyncio        1.5.1\r\n",
      "notebook            6.4.3\r\n",
      "packaging           21.0\r\n",
      "pandocfilters       1.4.3\r\n",
      "parso               0.8.2\r\n",
      "pexpect             4.8.0\r\n",
      "pickleshare         0.7.5\r\n",
      "pip                 21.2.4\r\n",
      "prometheus-client   0.11.0\r\n",
      "prompt-toolkit      3.0.19\r\n",
      "ptyprocess          0.7.0\r\n",
      "pycparser           2.20\r\n",
      "Pygments            2.10.0\r\n",
      "pyparsing           2.4.7\r\n",
      "pyrsistent          0.18.0\r\n",
      "python-dateutil     2.8.2\r\n",
      "python-dotenv       0.19.0\r\n",
      "pyzmq               22.2.1\r\n",
      "qtconsole           5.1.1\r\n",
      "QtPy                1.10.0\r\n",
      "Send2Trash          1.8.0\r\n",
      "setuptools          53.0.0\r\n",
      "six                 1.16.0\r\n",
      "terminado           0.11.1\r\n",
      "testpath            0.5.0\r\n",
      "tornado             6.1\r\n",
      "traitlets           5.0.5\r\n",
      "wcwidth             0.2.5\r\n",
      "webencodings        0.5.1\r\n",
      "wheel               0.36.2\r\n",
      "widgetsnbextension  3.5.1\r\n"
     ]
    }
   ],
   "source": [
    "!pip list"
   ]
  },
  {
   "cell_type": "code",
   "execution_count": 21,
   "id": "ec5678a0",
   "metadata": {},
   "outputs": [
    {
     "name": "stdout",
     "output_type": "stream",
     "text": [
      "The dotenv extension is already loaded. To reload it, use:\n",
      "  %reload_ext dotenv\n"
     ]
    }
   ],
   "source": [
    "import os"
   ]
  },
  {
   "cell_type": "code",
   "execution_count": 22,
   "id": "a5d7061d",
   "metadata": {},
   "outputs": [],
   "source": [
    "KAFKA_BOOTSTRAP_SERVER = os.environ.get('KAFKA_BOOTSTRAP_SERVER')\n",
    "KAFKA_USERNAME = os.environ.get('KAFKA_USERNAME')\n",
    "KAFKA_PASSWORD = os.environ.get('KAFKA_PASSWORD')\n",
    "KAFKA_TOPIC = 'test'\n",
    "KAFKA_CONSUMER_GROUP = 'notebook-consumer'"
   ]
  },
  {
   "cell_type": "code",
   "execution_count": 25,
   "id": "7803bc18",
   "metadata": {},
   "outputs": [
    {
     "name": "stdout",
     "output_type": "stream",
     "text": [
      "None\n",
      "None\n",
      "None\n"
     ]
    }
   ],
   "source": [
    "print(KAFKA_BOOTSTRAP_SERVER)\n",
    "print(KAFKA_USERNAME)\n",
    "print(KAFKA_PASSWORD)"
   ]
  }
 ],
 "metadata": {
  "kernelspec": {
   "display_name": "Python 3 (ipykernel)",
   "language": "python",
   "name": "python3"
  },
  "language_info": {
   "codemirror_mode": {
    "name": "ipython",
    "version": 3
   },
   "file_extension": ".py",
   "mimetype": "text/x-python",
   "name": "python",
   "nbconvert_exporter": "python",
   "pygments_lexer": "ipython3",
   "version": "3.9.2"
  }
 },
 "nbformat": 4,
 "nbformat_minor": 5
}
