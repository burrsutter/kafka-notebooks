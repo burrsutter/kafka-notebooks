{
 "cells": [
  {
   "cell_type": "code",
   "execution_count": 1,
   "id": "b10b8999",
   "metadata": {},
   "outputs": [
    {
     "name": "stdout",
     "output_type": "stream",
     "text": [
      "/usr/local/opt/python@3.9/bin/python3.9\n",
      "3.9.2 (default, Feb 24 2021, 13:26:09) \n",
      "[Clang 12.0.0 (clang-1200.0.32.29)]\n",
      "sys.version_info(major=3, minor=9, micro=2, releaselevel='final', serial=0)\n"
     ]
    }
   ],
   "source": [
    "import sys\n",
    "print(sys.executable)\n",
    "print(sys.version)\n",
    "print(sys.version_info)"
   ]
  },
  {
   "cell_type": "markdown",
   "id": "4e00b12e",
   "metadata": {},
   "source": [
    "### Managed Kafka Setup\n",
    "\n",
    "[rhoas binary](https://github.com/redhat-developer/app-services-cli/releases)\n",
    "\n",
    "`brew install jq`\n",
    "\n",
    "`rhoas login`\n",
    "\n",
    "`rhoas kafka list`\n",
    "\n",
    "`rhoas kafka topic list`\n",
    "\n",
    "`rhoas kafka create shipwars`\n",
    "\n",
    "`rhoas kafka describe shipwars | jq '.status'`\n",
    "\n",
    "`rhoas kafka topic create shipwars-matches --partitions 3`\n",
    "\n",
    "`rhoas kafka topic create shipwars-players --partitions 3`\n",
    "\n",
    "`rhoas kafka topic create shipwars-attacks --partitions 3`\n",
    "\n",
    "`rhoas kafka topic create shipwars-bonuses --partitions 3`\n",
    "\n",
    "`rhoas kafka topic create shipwars-results --partitions 3`\n",
    "\n",
    "`rhoas kafka topic create test --partitions 3`\n",
    "\n",
    "`rhoas kafka topic list`\n",
    "\n",
    "We only need the \"test\" topic for this example code, everything else was to be compatible with the shipwars demo\n",
    "\n",
    "`rhoas service-account create --name \"myserviceaccount\" --file-format json`\n",
    "\n",
    "`export KAFKA_BOOTSTRAP_SERVER=$(rhoas kafka describe shipwars | jq -r '.bootstrap_server_host')`\n",
    "\n",
    "`export KAFKA_USERNAME=$(jq -r '.clientID' credentials.json)`\n",
    "\n",
    "`export KAFKA_PASSWORD=$(jq -r '.clientSecret' credentials.json)`\n",
    "\n",
    "`export KAFKA_TOPIC=test`\n",
    "\n",
    "`export KAFKA_CONSUMER_GROUP=notebook-consumer`\n"
   ]
  },
  {
   "cell_type": "code",
   "execution_count": 2,
   "id": "9da117b8",
   "metadata": {},
   "outputs": [
    {
     "name": "stdout",
     "output_type": "stream",
     "text": [
      "\u001b[33mDEPRECATION: Configuring installation scheme with distutils config files is deprecated and will no longer work in the near future. If you are using a Homebrew or Linuxbrew Python, please see discussion at https://github.com/Homebrew/homebrew-core/issues/76621\u001b[0m\n",
      "Requirement already satisfied: kafka-python in /usr/local/lib/python3.9/site-packages (2.0.2)\n"
     ]
    }
   ],
   "source": [
    "!pip install kafka-python\n"
   ]
  },
  {
   "cell_type": "code",
   "execution_count": 3,
   "id": "5e9e7787",
   "metadata": {},
   "outputs": [
    {
     "name": "stdout",
     "output_type": "stream",
     "text": [
      "Package             Version\n",
      "------------------- -------\n",
      "appnope             0.1.2\n",
      "argon2-cffi         20.1.0\n",
      "attrs               21.2.0\n",
      "backcall            0.2.0\n",
      "bleach              4.0.0\n",
      "cffi                1.14.6\n",
      "debugpy             1.4.1\n",
      "decorator           5.0.9\n",
      "defusedxml          0.7.1\n",
      "entrypoints         0.3\n",
      "ipykernel           6.2.0\n",
      "ipython             7.26.0\n",
      "ipython-genutils    0.2.0\n",
      "ipywidgets          7.6.3\n",
      "jedi                0.18.0\n",
      "Jinja2              3.0.1\n",
      "jsonschema          3.2.0\n",
      "jupyter             1.0.0\n",
      "jupyter-client      6.1.12\n",
      "jupyter-console     6.4.0\n",
      "jupyter-core        4.7.1\n",
      "jupyterlab-pygments 0.1.2\n",
      "jupyterlab-widgets  1.0.0\n",
      "kafka-python        2.0.2\n",
      "MarkupSafe          2.0.1\n",
      "matplotlib-inline   0.1.2\n",
      "mistune             0.8.4\n",
      "nbclient            0.5.4\n",
      "nbconvert           6.1.0\n",
      "nbformat            5.1.3\n",
      "nest-asyncio        1.5.1\n",
      "notebook            6.4.3\n",
      "packaging           21.0\n",
      "pandocfilters       1.4.3\n",
      "parso               0.8.2\n",
      "pexpect             4.8.0\n",
      "pickleshare         0.7.5\n",
      "pip                 21.2.4\n",
      "prometheus-client   0.11.0\n",
      "prompt-toolkit      3.0.19\n",
      "ptyprocess          0.7.0\n",
      "pycparser           2.20\n",
      "Pygments            2.10.0\n",
      "pyparsing           2.4.7\n",
      "pyrsistent          0.18.0\n",
      "python-dateutil     2.8.2\n",
      "python-dotenv       0.19.0\n",
      "pyzmq               22.2.1\n",
      "qtconsole           5.1.1\n",
      "QtPy                1.10.0\n",
      "Send2Trash          1.8.0\n",
      "setuptools          53.0.0\n",
      "six                 1.16.0\n",
      "terminado           0.11.1\n",
      "testpath            0.5.0\n",
      "tornado             6.1\n",
      "traitlets           5.0.5\n",
      "wcwidth             0.2.5\n",
      "webencodings        0.5.1\n",
      "wheel               0.36.2\n",
      "widgetsnbextension  3.5.1\n"
     ]
    }
   ],
   "source": [
    "!pip list"
   ]
  },
  {
   "cell_type": "code",
   "execution_count": 4,
   "id": "3c029ba7",
   "metadata": {},
   "outputs": [],
   "source": [
    "import os"
   ]
  },
  {
   "cell_type": "markdown",
   "id": "e35aa36a",
   "metadata": {},
   "source": [
    "The following env variables should be set prior to running 'jupyter notebook' if using localhost"
   ]
  },
  {
   "cell_type": "code",
   "execution_count": 5,
   "id": "c3676976",
   "metadata": {},
   "outputs": [],
   "source": [
    "KAFKA_BOOTSTRAP_SERVER = os.environ.get('KAFKA_BOOTSTRAP_SERVER')\n",
    "KAFKA_USERNAME = os.environ.get('KAFKA_USERNAME')\n",
    "KAFKA_PASSWORD = os.environ.get('KAFKA_PASSWORD')\n",
    "KAFKA_TOPIC = 'test'\n",
    "KAFKA_CONSUMER_GROUP = 'notebook-consumer'"
   ]
  },
  {
   "cell_type": "code",
   "execution_count": 6,
   "id": "1adf702d",
   "metadata": {},
   "outputs": [
    {
     "name": "stdout",
     "output_type": "stream",
     "text": [
      "shipwars--x-bklrrwx-pasloxste-ggcxtf.bf2.kafka.rhcloud.com:443\n",
      "srvc-acct-2b021695-181b-4a41-b7d3-c02b457ea179\n",
      "e8936e08-127f-4b09-a3b1-971576101de4\n",
      "test\n",
      "notebook-consumer\n"
     ]
    }
   ],
   "source": [
    "print(KAFKA_BOOTSTRAP_SERVER)\n",
    "print(KAFKA_USERNAME)\n",
    "print(KAFKA_PASSWORD)\n",
    "print(KAFKA_TOPIC)\n",
    "print(KAFKA_CONSUMER_GROUP)"
   ]
  },
  {
   "cell_type": "code",
   "execution_count": 7,
   "id": "9febfd0e",
   "metadata": {},
   "outputs": [],
   "source": [
    "from kafka import KafkaConsumer\n",
    "\n",
    "\n",
    "def create_consumer_print():\n",
    "    consumer = KafkaConsumer(KAFKA_TOPIC,\n",
    "                             group_id=KAFKA_CONSUMER_GROUP,\n",
    "                             bootstrap_servers=[KAFKA_BOOTSTRAP_SERVER],\n",
    "                             security_protocol='SASL_SSL',\n",
    "                             sasl_mechanism='PLAIN',\n",
    "                             sasl_plain_username=KAFKA_USERNAME,\n",
    "                             sasl_plain_password=KAFKA_PASSWORD,\n",
    "                             auto_offset_reset='earliest',\n",
    "                             api_version_auto_timeout_ms=30000,\n",
    "                             request_timeout_ms=450000)\n",
    "    print(f'Subscribed to \"{KAFKA_BOOTSTRAP_SERVER}\" consuming topic \"{KAFKA_TOPIC}\"...')\n",
    "\n",
    "    try:\n",
    "        for record in consumer:\n",
    "            msg = record.value.decode('utf-8')\n",
    "            topic = record.topic\n",
    "            print(('Received the following message on the '\n",
    "                   f'topic \"{topic}\": {msg}'))\n",
    "\n",
    "    finally:\n",
    "        print(\"Closing consumer...\")\n",
    "        consumer.close()\n",
    "    print(\"Kafka consumer stopped.\")"
   ]
  },
  {
   "cell_type": "code",
   "execution_count": null,
   "id": "16b023a4",
   "metadata": {},
   "outputs": [
    {
     "name": "stdout",
     "output_type": "stream",
     "text": [
      "Subscribed to \"shipwars--x-bklrrwx-pasloxste-ggcxtf.bf2.kafka.rhcloud.com:443\" consuming topic \"test\"...\n",
      "Received the following message on the topic \"test\": one\n",
      "Received the following message on the topic \"test\": two\n",
      "Received the following message on the topic \"test\": three\n",
      "Received the following message on the topic \"test\": four\n",
      "Received the following message on the topic \"test\": five\n",
      "Received the following message on the topic \"test\": six\n"
     ]
    }
   ],
   "source": [
    "try:\n",
    "    create_consumer_print()\n",
    "except KeyboardInterrupt:\n",
    "    print('Stopped')"
   ]
  },
  {
   "cell_type": "code",
   "execution_count": null,
   "id": "1d721aed",
   "metadata": {},
   "outputs": [],
   "source": []
  }
 ],
 "metadata": {
  "kernelspec": {
   "display_name": "Python 3 (ipykernel)",
   "language": "python",
   "name": "python3"
  },
  "language_info": {
   "codemirror_mode": {
    "name": "ipython",
    "version": 3
   },
   "file_extension": ".py",
   "mimetype": "text/x-python",
   "name": "python",
   "nbconvert_exporter": "python",
   "pygments_lexer": "ipython3",
   "version": "3.9.2"
  }
 },
 "nbformat": 4,
 "nbformat_minor": 5
}
